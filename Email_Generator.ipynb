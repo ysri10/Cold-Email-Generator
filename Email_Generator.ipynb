{
 "cells": [
  {
   "cell_type": "code",
   "execution_count": 1,
   "id": "f0213eea-3f39-4996-9849-2cbe40e43739",
   "metadata": {},
   "outputs": [],
   "source": [
    "from langchain_groq import ChatGroq"
   ]
  },
  {
   "cell_type": "code",
   "execution_count": 3,
   "id": "4f1a6922-aedf-4b17-8b86-ce384472abe3",
   "metadata": {},
   "outputs": [],
   "source": [
    "llm = ChatGroq(\n",
    " temperature = 0,\n",
    "    groq_api_key = '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',\n",
    "    model_name = \"llama-3.1-70b-versatile\"\n",
    ")"
   ]
  },
  {
   "cell_type": "code",
   "execution_count": 5,
   "id": "364cfc7a-18c1-4cab-a4a5-6276100100c8",
   "metadata": {},
   "outputs": [
    {
     "name": "stdout",
     "output_type": "stream",
     "text": [
      "The captain of the Indian cricket team in 2011 was MS Dhoni.\n"
     ]
    }
   ],
   "source": [
    "response = llm.invoke(\"Who is the capitan of indian cricket team in 2011?\")\n",
    "print(response.content)"
   ]
  },
  {
   "cell_type": "code",
   "execution_count": 7,
   "id": "720f0c6b-6f88-4b5b-a755-2c7793eb9d6f",
   "metadata": {},
   "outputs": [
    {
     "name": "stderr",
     "output_type": "stream",
     "text": [
      "USER_AGENT environment variable not set, consider setting it to identify your requests.\n"
     ]
    },
    {
     "name": "stdout",
     "output_type": "stream",
     "text": [
      "\n",
      "\n",
      "\n",
      "\n",
      "\n",
      "\n",
      "\n",
      "\n",
      "\n",
      "AIML- Machine Learning Platform & Infrastructure - Careers at Apple\n",
      "\n",
      "\n",
      "\n",
      "\n",
      "\n",
      "\n",
      "\n",
      "AppleStoreMaciPadiPhoneWatchVisionAirPodsTV & HomeEntertainmentAccessoriesSupport\n",
      "\n",
      "\n",
      "0+\n",
      "Careers at AppleOpen MenuClose Menu\n",
      "\n",
      "      Work at Apple\n",
      "    \n",
      " \n",
      "\n",
      "      Life at Apple\n",
      "    \n",
      " \n",
      "\n",
      "      Profile\n",
      "    \n",
      " \n",
      "\n",
      "      Sign In\n",
      "    \n",
      " \n",
      "Search\n",
      "Jobs at Apple\n",
      "AIML- Machine Learning Platform & InfrastructureSeattle, Washington, United StatesMachine Learning and AIAdd to Favorites AIML- Machine Learning Platform & InfrastructureRemoved from favoritesAdd a favoriteCloseTo view your favorites, sign in with your Apple ID.Sign InDon’t have an Apple ID?Create one nowForgot your Apple ID or password?Submit ResumeAIML- Machine Learning Platform & InfrastructureBack to search resultsSummaryPosted: Sep 4, 2024Role Number:200565688At Apple, great ideas have a way of becoming great products, services, and customer experiences very quickly. Bring passion and dedication to your job and there’s no telling what you could accomplish.\n",
      "\n",
      "Do you want to make Spotlight search, Foundation models, Siri and other Apple products smarter for our users? The Information Intelligence teams are building groundbreaking technology for algorithmic search, machine learning, natural language processing, and artificial intelligence. The features we build are redefining how hundreds of millions of people use their computers and mobile devices to search and find what they are looking for. Our universal search engine powers search features across a variety of Apple products, including Siri, Spotlight, Safari\n",
      "\n",
      "As part of this group, you will work with one of the most exciting high performance computing environments, with petabytes of data and have an opportunity to imagine and build products that delight our customers every single day.DescriptionDescriptionWe are responsible for Search infrastructure at Apple. We design and build infrastructure to support features that empowers Spotlight and Siri users. We are responsible for the end to end ownership of our pipelines and services, from conception, to design, to implementation, to deployment, to operations.  As a result, each one of us takes our responsibilities seriously, while having a lot of fun building the best services at scale we can. We have numerous latency sensitive services, jobs and pipelines that solve problems within Search infrastructure engineering. As part of this team you’ll have the opportunity to work with large scale systems with trillions of rows and many petabytes of data. \n",
      "\n",
      "Candidate who joins our team will be responsible for the following\n",
      "* Drive the feature from inception to production launch that will help improve Spotlight Search, Apple Intelligence, Siri & other Apple products.\n",
      "* Work with cross functional teams & stakeholders to solve ambiguous problems.\n",
      "* Build software that improves experimentation and helps team make better decisions about what to try next.\n",
      "* Drive the team & organizational goals & OKRs.\n",
      "* Deliver high quality code & artifacts.Minimum QualificationsMinimum Qualifications5+ years of relevant experience.Strong coding skills in any programming language.Strong problem solving skills and ability to write performant and high quality clean code.Quick learner who can pickup new technology stacks, programming languages and be able to deliver features.Experience solving Big Data problems — we have problems that are far too large to fit on a single box, and we need to be able to build tools to solve them.Excellent interpersonal skills; able to work independently as well as in a team; can take feedback and iterate on a solution in a collaborative environment.Our applications are complex and strong programming skills and computer science fundamentals are essential. Whether you have a traditional Masters or PhD in compute science or self-taught or learned some other way, we’d love to talk with you.Key QualificationsKey QualificationsPreferred QualificationsPreferred QualificationsExperience with cloud platforms such as AWS, GCP, or Azure is a plus.Experience with big data storage systems, data lake, data pipelines is a plus.Experience building Kubernetes based jobs & services is a plus.Education & ExperienceEducation & ExperienceAdditional RequirementsAdditional RequirementsPay & BenefitsPay & BenefitsAt Apple, base pay is one part of our total compensation package and is determined within a range. This provides the opportunity to progress as you grow and develop within a role. The base pay range for this role is between $166,600 and $296,300, and your base pay will depend on your skills, qualifications, experience, and location.Apple employees also have the opportunity to become an Apple shareholder through participation in Apple’s discretionary employee stock programs. Apple employees are eligible for discretionary restricted stock unit awards, and can purchase Apple stock at a discount if voluntarily participating in Apple’s Employee Stock Purchase Plan. You’ll also receive benefits including: Comprehensive medical and dental coverage, retirement benefits, a range of discounted products and free services, and for formal education related to advancing your career at Apple, reimbursement for certain educational expenses — including tuition. Additionally, this role might be eligible for discretionary bonuses or commission payments as well as relocation. Learn more about Apple Benefits.Note: Apple benefit, compensation and employee stock programs are subject to eligibility requirements and other terms of the applicable plan or program.MoreApple is an equal opportunity employer that is committed to inclusion and diversity. We take affirmative action to ensure equal opportunity for all applicants without regard to race, color, religion, sex, sexual orientation, gender identity, national origin, disability, Veteran status, or other legally protected characteristics. Learn more about your EEO rights as an applicant.Submit ResumeAIML- Machine Learning Platform & InfrastructureBack to search resultsAdd to Favorites AIML- Machine Learning Platform & InfrastructureRemoved from favoritesAdd a favoriteCloseTo view your favorites, sign in with your Apple ID.Sign InDon’t have an Apple ID?Create one nowForgot your Apple ID or password?See all roles in  Seattle  \n",
      "Apple FooterApple is an equal opportunity employer that is committed to inclusion and diversity. We take affirmative action to ensure equal opportunity for all applicants without regard to race, color, religion, sex, sexual orientation, gender identity, national origin, disability, Veteran status, or other legally protected characteristics. Learn more about your EEO rights as an applicant (Opens in a new window) .Apple will not discriminate or retaliate against applicants who inquire about, disclose, or discuss their compensation or that of other applicants.  United States Department of Labor. Learn more (Opens in a new window) .Apple will consider for employment all qualified applicants with criminal histories in a manner consistent with applicable law. If you’re applying for a position in San Francisco, review the  San Francisco Fair Chance Ordinance guidelines (opens in a new window)  applicable in your area.Apple participates in the E-Verify program in certain locations as required by law. Learn more about the E-Verify program (Opens in a new window) .Apple is committed to working with and providing reasonable accommodation to applicants with physical and mental disabilities.  Reasonable Accommodation and Drug Free Workplace policyLearn more (Opens in a new window) .Apple is a drug-free workplace.  Reasonable Accommodation and Drug Free Workplace policyLearn more (Opens in a new window) .AppleCareers at AppleCareers at AppleShop and LearnShop and LearnStoreMaciPadiPhoneWatchVisionAirPodsTV & HomeAirTagAccessoriesGift CardsApple WalletApple WalletWalletApple CardApple PayApple CashAccountAccountManage Your Apple IDApple Store AccountiCloud.comEntertainmentEntertainmentApple OneApple TV+Apple MusicApple ArcadeApple Fitness+Apple News+Apple PodcastsApple BooksApp StoreApple StoreApple StoreFind a StoreGenius BarToday at AppleGroup ReservationsApple CampApple Store AppCertified RefurbishedApple Trade InFinancingCarrier Deals at AppleOrder StatusShopping HelpFor BusinessFor BusinessApple and BusinessShop for BusinessFor EducationFor EducationApple and EducationShop for K-12Shop for CollegeFor HealthcareFor HealthcareApple in HealthcareHealth on Apple WatchHealth Records on iPhoneFor GovernmentFor GovernmentShop for GovernmentShop for Veterans and MilitaryApple ValuesApple ValuesAccessibilityEducationEnvironmentInclusion and DiversityPrivacyRacial Equity and JusticeSupply ChainAbout AppleAbout AppleNewsroomApple LeadershipCareer OpportunitiesInvestorsEthics & ComplianceEventsContact Apple\n",
      "More ways to shop: Find an Apple Store or other retailer near you. Or call 1-800-MY-APPLE.United StatesCopyright © 2024 Apple Inc. All rights reserved.Privacy PolicyTerms of UseSales and RefundsLegalSite Map\n",
      "\n",
      "\n",
      "\n",
      "\n",
      "\n",
      "\n",
      "\n",
      "\n",
      "\n",
      "\n",
      "\n"
     ]
    }
   ],
   "source": [
    "from langchain_community.document_loaders import WebBaseLoader\n",
    "\n",
    "loader = WebBaseLoader(\"https://jobs.apple.com/en-us/details/200565688/aiml-machine-learning-platform-infrastructure?team=SFTWR\")\n",
    "page_data = loader.load().pop().page_content\n",
    "print(page_data)"
   ]
  },
  {
   "cell_type": "code",
   "execution_count": 9,
   "id": "70edf0a1-5514-4712-9500-23ad19ede320",
   "metadata": {},
   "outputs": [],
   "source": [
    "from langchain_core.prompts import PromptTemplate"
   ]
  },
  {
   "cell_type": "code",
   "execution_count": 19,
   "id": "4f588c9c-3950-4819-8641-607b0d1fa474",
   "metadata": {},
   "outputs": [
    {
     "name": "stdout",
     "output_type": "stream",
     "text": [
      "[\n",
      "  {\n",
      "    \"role\": \"AIML- Machine Learning Platform & Infrastructure\",\n",
      "    \"experience\": \"5+ years of relevant experience\",\n",
      "    \"skills\": [\n",
      "      \"Strong coding skills in any programming language\",\n",
      "      \"Strong problem solving skills and ability to write performant and high quality clean code\",\n",
      "      \"Experience solving Big Data problems\",\n",
      "      \"Excellent interpersonal skills\"\n",
      "    ],\n",
      "    \"description\": \"We are responsible for Search infrastructure at Apple. We design and build infrastructure to support features that empowers Spotlight and Siri users. We are responsible for the end to end ownership of our pipelines and services, from conception, to design, to implementation, to deployment, to operations.\"\n",
      "  }\n",
      "]\n"
     ]
    }
   ],
   "source": [
    "prompt_extract = PromptTemplate.from_template(\n",
    "    \"\"\"\n",
    "    ### SCRAPED TEXT FROM WEBSITE:\n",
    "    {page_data}\n",
    "    ### INSTRUCTION:\n",
    "    The scraped text is from the career's page of a website.\n",
    "    Your job is to extract the job postings and return the, in JSON format containing\n",
    "    following keys: `role`, `experience`, `skills` and `description`.\n",
    "    Only return the valid JSON.\n",
    "    ### VALID JSON (NO PREAMBLE)\n",
    "    \"\"\"\n",
    ")\n",
    "\n",
    "chain_extract = prompt_extract | llm\n",
    "res = chain_extract.invoke(input={'page_data': page_data})\n",
    "print(res.content)"
   ]
  },
  {
   "cell_type": "code",
   "execution_count": 21,
   "id": "c754c04a-7e9e-4fdd-b71b-bb5ff04902bc",
   "metadata": {},
   "outputs": [],
   "source": [
    "from langchain_core.output_parsers import JsonOutputParser"
   ]
  },
  {
   "cell_type": "code",
   "execution_count": 24,
   "id": "c393546c-9734-478a-abf6-5fa714985e14",
   "metadata": {},
   "outputs": [
    {
     "data": {
      "text/plain": [
       "[{'role': 'AIML- Machine Learning Platform & Infrastructure',\n",
       "  'experience': '5+ years of relevant experience',\n",
       "  'skills': ['Strong coding skills in any programming language',\n",
       "   'Strong problem solving skills and ability to write performant and high quality clean code',\n",
       "   'Experience solving Big Data problems',\n",
       "   'Excellent interpersonal skills'],\n",
       "  'description': 'We are responsible for Search infrastructure at Apple. We design and build infrastructure to support features that empowers Spotlight and Siri users. We are responsible for the end to end ownership of our pipelines and services, from conception, to design, to implementation, to deployment, to operations.'}]"
      ]
     },
     "execution_count": 24,
     "metadata": {},
     "output_type": "execute_result"
    }
   ],
   "source": [
    "json_parser = JsonOutputParser()\n",
    "json_res = json_parser.parse(res.content)\n",
    "json_res"
   ]
  },
  {
   "cell_type": "code",
   "execution_count": 26,
   "id": "f4917185-bc18-4fcf-8310-6c73fda188b0",
   "metadata": {},
   "outputs": [],
   "source": [
    "import pandas as pd"
   ]
  },
  {
   "cell_type": "code",
   "execution_count": 28,
   "id": "3aa41c84-916a-45b8-9d6a-3fd6742c4741",
   "metadata": {},
   "outputs": [
    {
     "data": {
      "text/html": [
       "<div>\n",
       "<style scoped>\n",
       "    .dataframe tbody tr th:only-of-type {\n",
       "        vertical-align: middle;\n",
       "    }\n",
       "\n",
       "    .dataframe tbody tr th {\n",
       "        vertical-align: top;\n",
       "    }\n",
       "\n",
       "    .dataframe thead th {\n",
       "        text-align: right;\n",
       "    }\n",
       "</style>\n",
       "<table border=\"1\" class=\"dataframe\">\n",
       "  <thead>\n",
       "    <tr style=\"text-align: right;\">\n",
       "      <th></th>\n",
       "      <th>Techstack</th>\n",
       "      <th>Links</th>\n",
       "    </tr>\n",
       "  </thead>\n",
       "  <tbody>\n",
       "    <tr>\n",
       "      <th>0</th>\n",
       "      <td>React, Node.js, MongoDB</td>\n",
       "      <td>https://example.com/react-portfolio</td>\n",
       "    </tr>\n",
       "    <tr>\n",
       "      <th>1</th>\n",
       "      <td>Angular,.NET, SQL Server</td>\n",
       "      <td>https://example.com/angular-portfolio</td>\n",
       "    </tr>\n",
       "    <tr>\n",
       "      <th>2</th>\n",
       "      <td>Vue.js, Ruby on Rails, PostgreSQL</td>\n",
       "      <td>https://example.com/vue-portfolio</td>\n",
       "    </tr>\n",
       "    <tr>\n",
       "      <th>3</th>\n",
       "      <td>Python, Django, MySQL</td>\n",
       "      <td>https://example.com/python-portfolio</td>\n",
       "    </tr>\n",
       "    <tr>\n",
       "      <th>4</th>\n",
       "      <td>Java, Spring Boot, Oracle</td>\n",
       "      <td>https://example.com/java-portfolio</td>\n",
       "    </tr>\n",
       "    <tr>\n",
       "      <th>5</th>\n",
       "      <td>Flutter, Firebase, GraphQL</td>\n",
       "      <td>https://example.com/flutter-portfolio</td>\n",
       "    </tr>\n",
       "    <tr>\n",
       "      <th>6</th>\n",
       "      <td>WordPress, PHP, MySQL</td>\n",
       "      <td>https://example.com/wordpress-portfolio</td>\n",
       "    </tr>\n",
       "    <tr>\n",
       "      <th>7</th>\n",
       "      <td>Magento, PHP, MySQL</td>\n",
       "      <td>https://example.com/magento-portfolio</td>\n",
       "    </tr>\n",
       "    <tr>\n",
       "      <th>8</th>\n",
       "      <td>React Native, Node.js, MongoDB</td>\n",
       "      <td>https://example.com/react-native-portfolio</td>\n",
       "    </tr>\n",
       "    <tr>\n",
       "      <th>9</th>\n",
       "      <td>iOS, Swift, Core Data</td>\n",
       "      <td>https://example.com/ios-portfolio</td>\n",
       "    </tr>\n",
       "    <tr>\n",
       "      <th>10</th>\n",
       "      <td>Android, Java, Room Persistence</td>\n",
       "      <td>https://example.com/android-portfolio</td>\n",
       "    </tr>\n",
       "    <tr>\n",
       "      <th>11</th>\n",
       "      <td>Kotlin, Android, Firebase</td>\n",
       "      <td>https://example.com/kotlin-android-portfolio</td>\n",
       "    </tr>\n",
       "    <tr>\n",
       "      <th>12</th>\n",
       "      <td>Android TV, Kotlin, Android NDK</td>\n",
       "      <td>https://example.com/android-tv-portfolio</td>\n",
       "    </tr>\n",
       "    <tr>\n",
       "      <th>13</th>\n",
       "      <td>iOS, Swift, ARKit</td>\n",
       "      <td>https://example.com/ios-ar-portfolio</td>\n",
       "    </tr>\n",
       "    <tr>\n",
       "      <th>14</th>\n",
       "      <td>Cross-platform, Xamarin, Azure</td>\n",
       "      <td>https://example.com/xamarin-portfolio</td>\n",
       "    </tr>\n",
       "    <tr>\n",
       "      <th>15</th>\n",
       "      <td>Backend, Kotlin, Spring Boot</td>\n",
       "      <td>https://example.com/kotlin-backend-portfolio</td>\n",
       "    </tr>\n",
       "    <tr>\n",
       "      <th>16</th>\n",
       "      <td>Frontend, TypeScript, Angular</td>\n",
       "      <td>https://example.com/typescript-frontend-portfolio</td>\n",
       "    </tr>\n",
       "    <tr>\n",
       "      <th>17</th>\n",
       "      <td>Full-stack, JavaScript, Express.js</td>\n",
       "      <td>https://example.com/full-stack-js-portfolio</td>\n",
       "    </tr>\n",
       "    <tr>\n",
       "      <th>18</th>\n",
       "      <td>Machine Learning, Python, TensorFlow</td>\n",
       "      <td>https://example.com/ml-python-portfolio</td>\n",
       "    </tr>\n",
       "    <tr>\n",
       "      <th>19</th>\n",
       "      <td>DevOps, Jenkins, Docker</td>\n",
       "      <td>https://example.com/devops-portfolio</td>\n",
       "    </tr>\n",
       "  </tbody>\n",
       "</table>\n",
       "</div>"
      ],
      "text/plain": [
       "                               Techstack  \\\n",
       "0                React, Node.js, MongoDB   \n",
       "1               Angular,.NET, SQL Server   \n",
       "2      Vue.js, Ruby on Rails, PostgreSQL   \n",
       "3                  Python, Django, MySQL   \n",
       "4              Java, Spring Boot, Oracle   \n",
       "5             Flutter, Firebase, GraphQL   \n",
       "6                  WordPress, PHP, MySQL   \n",
       "7                    Magento, PHP, MySQL   \n",
       "8         React Native, Node.js, MongoDB   \n",
       "9                  iOS, Swift, Core Data   \n",
       "10       Android, Java, Room Persistence   \n",
       "11             Kotlin, Android, Firebase   \n",
       "12       Android TV, Kotlin, Android NDK   \n",
       "13                     iOS, Swift, ARKit   \n",
       "14        Cross-platform, Xamarin, Azure   \n",
       "15          Backend, Kotlin, Spring Boot   \n",
       "16         Frontend, TypeScript, Angular   \n",
       "17    Full-stack, JavaScript, Express.js   \n",
       "18  Machine Learning, Python, TensorFlow   \n",
       "19               DevOps, Jenkins, Docker   \n",
       "\n",
       "                                                Links  \n",
       "0                 https://example.com/react-portfolio  \n",
       "1               https://example.com/angular-portfolio  \n",
       "2                   https://example.com/vue-portfolio  \n",
       "3                https://example.com/python-portfolio  \n",
       "4                  https://example.com/java-portfolio  \n",
       "5               https://example.com/flutter-portfolio  \n",
       "6             https://example.com/wordpress-portfolio  \n",
       "7               https://example.com/magento-portfolio  \n",
       "8          https://example.com/react-native-portfolio  \n",
       "9                   https://example.com/ios-portfolio  \n",
       "10              https://example.com/android-portfolio  \n",
       "11       https://example.com/kotlin-android-portfolio  \n",
       "12           https://example.com/android-tv-portfolio  \n",
       "13               https://example.com/ios-ar-portfolio  \n",
       "14              https://example.com/xamarin-portfolio  \n",
       "15       https://example.com/kotlin-backend-portfolio  \n",
       "16  https://example.com/typescript-frontend-portfolio  \n",
       "17        https://example.com/full-stack-js-portfolio  \n",
       "18            https://example.com/ml-python-portfolio  \n",
       "19               https://example.com/devops-portfolio  "
      ]
     },
     "execution_count": 28,
     "metadata": {},
     "output_type": "execute_result"
    }
   ],
   "source": [
    "df = pd.read_csv(\"my_portfolio.csv\")\n",
    "df"
   ]
  },
  {
   "cell_type": "code",
   "execution_count": 32,
   "id": "bf0cd46c-f405-454c-9a12-512a123b449f",
   "metadata": {},
   "outputs": [],
   "source": [
    "import chromadb\n",
    "import uuid"
   ]
  },
  {
   "cell_type": "code",
   "execution_count": 34,
   "id": "a3310626-158e-4f1f-9127-21750d2aec55",
   "metadata": {},
   "outputs": [],
   "source": [
    "client = chromadb.PersistentClient('vectorstore')\n",
    "collection = client.get_or_create_collection(name=\"portfolio\")\n",
    "\n",
    "if not collection.count():\n",
    "    for _, row in df.iterrows():\n",
    "        collection.add(documents=row[\"Techstack\"],\n",
    "                       metadatas = {\"links\":row[\"Links\"]},\n",
    "                       ids=[str(uuid.uuid4())])"
   ]
  },
  {
   "cell_type": "code",
   "execution_count": 40,
   "id": "0e74df9f-d8fb-4772-be0e-5e24a155f06a",
   "metadata": {},
   "outputs": [
    {
     "name": "stdout",
     "output_type": "stream",
     "text": [
      "{'ids': [['83bc3f16-43f0-4b18-b8bf-6296f2e59c58', '7e71bb26-e701-4c1a-84ce-c3604c7b4a61'], ['91813b04-101f-45bf-9dc6-b484792ced50', 'f42a8d8e-d84a-4f2d-b571-9e032db07324']], 'distances': [[0.9969006380863958, 1.057901867484696], [0.9630503091209697, 1.068565171699208]], 'metadatas': [[{'links': 'https://example.com/ml-python-portfolio'}, {'links': 'https://example.com/python-portfolio'}], [{'links': 'https://example.com/react-portfolio'}, {'links': 'https://example.com/react-native-portfolio'}]], 'embeddings': None, 'documents': [['Machine Learning, Python, TensorFlow', 'Python, Django, MySQL'], ['React, Node.js, MongoDB', 'React Native, Node.js, MongoDB']], 'uris': None, 'data': None, 'included': ['metadatas', 'documents', 'distances']}\n"
     ]
    }
   ],
   "source": [
    "links = collection.query(query_texts=[\"Experience in Python\", \"Experience in React\"], n_results=2)\n",
    "print(links)"
   ]
  },
  {
   "cell_type": "code",
   "execution_count": 58,
   "id": "38f91aa2-e684-4c74-8440-d5846ca44354",
   "metadata": {},
   "outputs": [
    {
     "name": "stdout",
     "output_type": "stream",
     "text": [
      "['Strong coding skills in any programming language', 'Strong problem solving skills and ability to write performant and high quality clean code', 'Experience solving Big Data problems', 'Excellent interpersonal skills']\n"
     ]
    }
   ],
   "source": [
    "job = json_res[0]\n",
    "print(job['skills'])"
   ]
  },
  {
   "cell_type": "code",
   "execution_count": 76,
   "id": "bf9cf21d-2698-434c-9040-0861f219d818",
   "metadata": {},
   "outputs": [
    {
     "name": "stdout",
     "output_type": "stream",
     "text": [
      "{'ids': [['83bc3f16-43f0-4b18-b8bf-6296f2e59c58', 'c711d072-58aa-4538-938c-0cd3dd966fc0'], ['83bc3f16-43f0-4b18-b8bf-6296f2e59c58', 'c711d072-58aa-4538-938c-0cd3dd966fc0'], ['83bc3f16-43f0-4b18-b8bf-6296f2e59c58', 'b873e2ec-6dc9-4df7-8548-1cf3cd650000'], ['b873e2ec-6dc9-4df7-8548-1cf3cd650000', '83bc3f16-43f0-4b18-b8bf-6296f2e59c58']], 'distances': [[1.3454984913876111, 1.589141790749119], [1.5860821811838788, 1.681917662475185], [1.407658017442574, 1.5975791576545297], [1.7800567539308354, 1.7988076254320264]], 'metadatas': [[{'links': 'https://example.com/ml-python-portfolio'}, {'links': 'https://example.com/magento-portfolio'}], [{'links': 'https://example.com/ml-python-portfolio'}, {'links': 'https://example.com/magento-portfolio'}], [{'links': 'https://example.com/ml-python-portfolio'}, {'links': 'https://example.com/android-portfolio'}], [{'links': 'https://example.com/android-portfolio'}, {'links': 'https://example.com/ml-python-portfolio'}]], 'embeddings': None, 'documents': [['Machine Learning, Python, TensorFlow', 'Magento, PHP, MySQL'], ['Machine Learning, Python, TensorFlow', 'Magento, PHP, MySQL'], ['Machine Learning, Python, TensorFlow', 'Android, Java, Room Persistence'], ['Android, Java, Room Persistence', 'Machine Learning, Python, TensorFlow']], 'uris': None, 'data': None, 'included': ['metadatas', 'documents', 'distances']}\n",
      "[]\n"
     ]
    }
   ],
   "source": [
    "links = collection.query(query_texts=job['skills'], n_results=2)\n",
    "print(links)\n",
    "\n",
    "metadata = links.get('metadata', [])\n",
    "print(metadata)"
   ]
  },
  {
   "cell_type": "code",
   "execution_count": 80,
   "id": "d5767abc-235b-47c7-a3d8-bba94ea3945d",
   "metadata": {},
   "outputs": [
    {
     "name": "stdout",
     "output_type": "stream",
     "text": [
      "Subject: Application for AIML- Machine Learning Platform & Infrastructure Role at Apple\n",
      "\n",
      "Dear Hiring Manager,\n",
      "\n",
      "I am excited to apply for the AIML- Machine Learning Platform & Infrastructure role at Apple, as advertised. With a Master's degree in Electrical and Computer Engineering, specializing in Machine Learning, and a minor in Computer Science from the University of Florida, I am confident that my skills and experience make me an ideal candidate for this position.\n",
      "\n",
      "As a seasoned software developer with over a year of industry experience at Accenture, I have developed a strong foundation in software engineering and machine learning. My proficiency in multiple programming languages, including Python, Java, and PHP, has enabled me to tackle complex problems and deliver high-quality solutions. Additionally, my experience with various databases has allowed me to effectively manage and analyze large datasets.\n",
      "\n",
      "I am particularly drawn to this role at Apple because of the opportunity to work on the Search infrastructure, designing and building pipelines and services that empower Spotlight and Siri users. My experience with machine learning and software engineering has equipped me with the skills to solve Big Data problems and write performant, high-quality code.\n",
      "\n",
      "As an AWS Certified Developer, AWS Solution Architect Associate, and AWS Machine Learning Specialty holder, I possess a deep understanding of cloud computing and machine learning principles. My certifications demonstrate my ability to design, develop, and deploy scalable, secure, and efficient machine learning solutions.\n",
      "\n",
      "I would like to highlight a few projects from my portfolio that showcase my capabilities:\n",
      "\n",
      "* Machine Learning with Python and TensorFlow: I have developed a portfolio of machine learning projects using Python and TensorFlow, demonstrating my proficiency in building and deploying machine learning models. (https://example.com/ml-python-portfolio)\n",
      "* Android App Development: I have also developed Android apps using Java and Room Persistence, showcasing my ability to design and build scalable and efficient mobile applications. (https://example.com/android-portfolio)\n",
      "\n",
      "I am excited about the opportunity to bring my skills and experience to Apple and contribute to the development of innovative machine learning solutions. Thank you for considering my application. I would welcome the opportunity to discuss my qualifications further.\n",
      "\n",
      "Best regards,\n",
      "\n",
      "Sri Sai Srivatsa Yerrapragada\n"
     ]
    }
   ],
   "source": [
    "prompt_email = PromptTemplate.from_template(\n",
    "        \"\"\"\n",
    "        ### JOB DESCRIPTION:\n",
    "        {job_description}\n",
    "        \n",
    "        ### INSTRUCTION:\n",
    "        You are Sri Sai Srivatsa Yerrapragada, I am recently graduated in Master's degree in Electrical and Computer Engineering, specializing in Machine Learning, with a minor in Computer Science at the University of Florida.\n",
    "        With one year of industry experience as a Software Developer at Accenture, I have developed a profound interest in Machine Learnning and software engineering, demonstrating proficiency in multiple programming languages and databases. \n",
    "        Furthermore, I have earned industry-recognized certifications, including the AWS Certified Developer, AWS Solution Architect Associate and AWS Machine Learning Speciality. \n",
    "        \n",
    "        Your job is to write a cold email to the client regarding the job mentioned above describing the capability of Sri Sai Srivatsa Yerrapragada \n",
    "        in fulfilling their needs.\n",
    "        \n",
    "        Also add the most relevant ones from the following links to showcase Srivatsa's portfolio: {link_list}\n",
    "        Remember you are Sri Sai Srivatsa Yerrapragada. \n",
    "        Do not provide a preamble.\n",
    "        ### EMAIL (NO PREAMBLE):\n",
    "        \n",
    "        \"\"\"\n",
    "        )\n",
    "\n",
    "chain_email = prompt_email | llm\n",
    "res = chain_email.invoke({\"job_description\": str(job), \"link_list\": links})\n",
    "print(res.content)"
   ]
  },
  {
   "cell_type": "code",
   "execution_count": null,
   "id": "b791401d-812f-40e3-a26d-ab62bb9ecc5a",
   "metadata": {},
   "outputs": [],
   "source": []
  }
 ],
 "metadata": {
  "kernelspec": {
   "display_name": "Python 3 (ipykernel)",
   "language": "python",
   "name": "python3"
  },
  "language_info": {
   "codemirror_mode": {
    "name": "ipython",
    "version": 3
   },
   "file_extension": ".py",
   "mimetype": "text/x-python",
   "name": "python",
   "nbconvert_exporter": "python",
   "pygments_lexer": "ipython3",
   "version": "3.11.7"
  }
 },
 "nbformat": 4,
 "nbformat_minor": 5
}
