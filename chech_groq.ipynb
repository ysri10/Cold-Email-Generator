{
 "cells": [
  {
   "cell_type": "code",
   "execution_count": 3,
   "id": "2d1fcdc7-5232-4a9f-b836-df767185dd3e",
   "metadata": {},
   "outputs": [],
   "source": [
    "from langchain_groq import ChatGroq\n",
    "\n",
    "llm = ChatGroq(\n",
    " temperature = 0,\n",
    "    groq_api_key = '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',\n",
    "    model_name = \"llama-3.1-70b-versatile\"\n",
    ")"
   ]
  },
  {
   "cell_type": "code",
   "execution_count": 5,
   "id": "e8e5bfa7-1b66-45bf-9fc0-3cb9b8af2971",
   "metadata": {},
   "outputs": [
    {
     "name": "stdout",
     "output_type": "stream",
     "text": [
      "The captain of the Indian cricket team in 2011 was MS Dhoni.\n"
     ]
    }
   ],
   "source": [
    "response = llm.invoke(\"Who is the capitan of indian cricket team in 2011?\")\n",
    "print(response.content)"
   ]
  },
  {
   "cell_type": "code",
   "execution_count": null,
   "id": "772ae3f5-b381-483e-93e7-e23c2a525c8f",
   "metadata": {},
   "outputs": [],
   "source": []
  }
 ],
 "metadata": {
  "kernelspec": {
   "display_name": "Python 3 (ipykernel)",
   "language": "python",
   "name": "python3"
  },
  "language_info": {
   "codemirror_mode": {
    "name": "ipython",
    "version": 3
   },
   "file_extension": ".py",
   "mimetype": "text/x-python",
   "name": "python",
   "nbconvert_exporter": "python",
   "pygments_lexer": "ipython3",
   "version": "3.11.7"
  }
 },
 "nbformat": 4,
 "nbformat_minor": 5
}
